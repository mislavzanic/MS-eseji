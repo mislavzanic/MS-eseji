{
 "cells": [
  {
   "cell_type": "markdown",
   "id": "4859db4e",
   "metadata": {},
   "source": [
    "# Advent of Code"
   ]
  },
  {
   "cell_type": "code",
   "execution_count": null,
   "id": "22bf5a6a",
   "metadata": {},
   "outputs": [],
   "source": [
    "from matplotlib import pyplot as plt, animation\n",
    "from matplotlib import cm, colors\n",
    "from mpl_toolkits.mplot3d import Axes3D\n",
    "\n",
    "import numpy as np\n",
    "\n",
    "%matplotlib notebook"
   ]
  },
  {
   "cell_type": "markdown",
   "id": "22f27103",
   "metadata": {},
   "source": [
    "# Upute za preuzimanje zadataka\n",
    "\n",
    "Posjetiti stranicu *[Advent of Code](https://adventofcode.com)*. Na toj stranici napraviti acconut (moze se koristiti github/email) i kopirati svoj session. Pozvati fju get_aoc_input sa session_str jednakim session-u i danom i godinom zadatka."
   ]
  },
  {
   "cell_type": "code",
   "execution_count": null,
   "id": "a3cdca3b",
   "metadata": {},
   "outputs": [],
   "source": [
    "session = '53616c7465645f5fa84cdf4fd1e667823de36970c380c49a1373a1ac0d5a4ddf77aeb87eda22f992bac9a4e24fa8295f06c385916e074b59f6ba4ee8e53b2612'"
   ]
  },
  {
   "cell_type": "code",
   "execution_count": null,
   "id": "5d829402",
   "metadata": {},
   "outputs": [],
   "source": [
    "import requests\n",
    "import os\n",
    "\n",
    "def get_aoc_input(session_str, day, year, return_output=False):\n",
    "    \n",
    "    if os.path.exists(f'./{year}_{day}_input.txt'):\n",
    "        with open(f'{year}_{day}_input.txt') as f:\n",
    "            text = [x.strip() for x in f.readlines()]\n",
    "        if return_output: return text\n",
    "    else:\n",
    "        response = requests.get(\n",
    "            f'https://adventofcode.com/{year}/day/{day}/input',\n",
    "            headers={'cookie':f'session={session_str}'}\n",
    "        )\n",
    "    \n",
    "        try:\n",
    "            with open(f'{year}_{day}_input.txt', 'w') as f:\n",
    "                f.write(response.text.strip())\n",
    "            if return_output: return [x.strip() for x in response.text.strip().split('\\n')]\n",
    "        except Exception as e:\n",
    "            print(f'Error: {e.args}')\n",
    "            return None"
   ]
  },
  {
   "cell_type": "markdown",
   "id": "e4e9f59e",
   "metadata": {},
   "source": [
    "## Experimental Emergency Teleportation\n",
    "*[Link na zadatak](https://adventofcode.com/2018/day/23)*"
   ]
  },
  {
   "cell_type": "code",
   "execution_count": null,
   "id": "9a776ca6",
   "metadata": {
    "scrolled": true
   },
   "outputs": [],
   "source": [
    "import re\n",
    "from collections import Counter\n",
    "\n",
    "def parse_line(line):\n",
    "    return tuple(map(int, re.match(r'pos=<(-?\\d+),(-?\\d+),(-?\\d+)>, r=(\\d+)', line).groups()))\n",
    "\n",
    "def manh_dist(point1, point2):\n",
    "    return sum(abs(point1[i] - point2[i]) for i in range(3))\n",
    "\n",
    "inlist = get_aoc_input(session, 23, 2018, return_output=True)\n",
    "inputs = [parse_line(line) for line in inlist]\n",
    "c = Counter()\n",
    "for n1 in inputs:\n",
    "    for n2 in inputs:\n",
    "        if manh_dist(n1,n2) <= n1[-1]:\n",
    "            c[n1] += manh_dist(n1,n2) <= n1[-1]\n",
    "\n",
    "n = sorted(c.keys(), key=lambda x: x[-1], reverse=True)[0]\n",
    "print(c[n])"
   ]
  },
  {
   "cell_type": "code",
   "execution_count": null,
   "id": "28572816",
   "metadata": {},
   "outputs": [],
   "source": [
    "from z3 import *\n",
    "\n",
    "def zabs(x):\n",
    "    return If(x >= 0,x,-x)\n",
    "\n",
    "(x,y,z) = (Int('x'),Int('y'),Int('z'))\n",
    "in_ranges = [Int(f'in_range_{i}') for i in range(len(inputs))]\n",
    "range_count = Int('sum')\n",
    "dist_from_zero = Int('dist')\n",
    "\n",
    "o = Optimize()\n",
    "for i in range(len(inputs)):\n",
    "    nx,ny,nz,nr = inputs[i]\n",
    "    o.add(in_ranges[i] == If(zabs(x-nx) + zabs(y-ny) + zabs(z-nz) <= nr, 1, 0))   \n",
    "o.add(range_count == sum(in_ranges))\n",
    "o.add(dist_from_zero == zabs(x) + zabs(y) + zabs(z))"
   ]
  },
  {
   "cell_type": "code",
   "execution_count": null,
   "id": "d4afcaf1",
   "metadata": {},
   "outputs": [],
   "source": [
    "h1 = o.maximize(range_count)\n",
    "h2 = o.minimize(dist_from_zero)\n",
    "print(o.check())\n",
    "print(o.lower(h2), o.upper(h2))"
   ]
  },
  {
   "cell_type": "markdown",
   "id": "e6350db9",
   "metadata": {},
   "source": [
    "## Lanternfish\n",
    "\n",
    "*[Link na zadatak](https://adventofcode.com/2021/day/6)*"
   ]
  },
  {
   "cell_type": "code",
   "execution_count": null,
   "id": "0ed76d84",
   "metadata": {},
   "outputs": [],
   "source": [
    "from collections import deque\n",
    "import re\n",
    "import itertools as it"
   ]
  },
  {
   "cell_type": "markdown",
   "id": "a4926f5f",
   "metadata": {},
   "source": [
    "Dohvatimo input za zadatak i pocnimo :)"
   ]
  },
  {
   "cell_type": "code",
   "execution_count": null,
   "id": "73b2ba96",
   "metadata": {},
   "outputs": [],
   "source": [
    "get_aoc_input(session, 6, 2021)"
   ]
  },
  {
   "cell_type": "markdown",
   "id": "b811113e",
   "metadata": {},
   "source": [
    "Vidimo da je input jako lijepo formatiran (ako se radi u python-u ;), to se lako obradi uz malo `str`/`np.loadtxt` magije"
   ]
  },
  {
   "cell_type": "markdown",
   "id": "3dbbeb8f",
   "metadata": {},
   "source": [
    "### Rjesenje pomocu numpy-a"
   ]
  },
  {
   "cell_type": "code",
   "execution_count": null,
   "id": "6686bf77",
   "metadata": {},
   "outputs": [],
   "source": [
    "lines = np.loadtxt('2021_6_input.txt', delimiter=',', dtype=\"uint32\")\n",
    "fish_timer = np.zeros(9)\n",
    "time, count = np.unique(lines, return_counts=True)\n",
    "fish_timer[time] = count"
   ]
  },
  {
   "cell_type": "code",
   "execution_count": null,
   "id": "8d903285",
   "metadata": {},
   "outputs": [],
   "source": [
    "def memoize_numpy(fish_timer, days):\n",
    "    gen = np.copy(fish_timer)\n",
    "    for _ in range(days):\n",
    "        gen[7] += gen[0]\n",
    "        gen = np.roll(gen, -1)\n",
    "    return sum(gen)"
   ]
  },
  {
   "cell_type": "code",
   "execution_count": null,
   "id": "67a1f046",
   "metadata": {},
   "outputs": [],
   "source": [
    "print(memoize_numpy(fish_timer, 80))\n",
    "print(memoize_numpy(fish_timer, 256))"
   ]
  },
  {
   "cell_type": "code",
   "execution_count": null,
   "id": "6e471aee",
   "metadata": {},
   "outputs": [],
   "source": [
    "def generator(fish_timer, days):\n",
    "    for i in range(days):\n",
    "        yield memoize_numpy(fish_timer, i)\n",
    "\n",
    "y = [x for x in generator(fish_timer, 256)]\n",
    "\n",
    "fig, ax = plt.subplots()\n",
    "ax.plot(y)\n",
    "plt.show()"
   ]
  },
  {
   "cell_type": "markdown",
   "id": "d8c2b367",
   "metadata": {},
   "source": [
    "### Rjesenje pomocu vulgaris python-a :)"
   ]
  },
  {
   "cell_type": "code",
   "execution_count": null,
   "id": "7c215ae8",
   "metadata": {},
   "outputs": [],
   "source": [
    "with open('2021_6_input.txt') as f:\n",
    "    inlist = list(map(int, f.readline().strip().split(',')))\n",
    "d = deque([0 for _ in range(9)])\n",
    "for num in inlist:\n",
    "    d[num] += 1"
   ]
  },
  {
   "cell_type": "code",
   "execution_count": null,
   "id": "ecc73940",
   "metadata": {},
   "outputs": [],
   "source": [
    "def memoize_pure_python(deq, days):\n",
    "    d = deque([x for x in deq])\n",
    "    for _ in range(days):\n",
    "        d[7] += d[0]\n",
    "        d.rotate(-1)\n",
    "    return sum(d)"
   ]
  },
  {
   "cell_type": "code",
   "execution_count": null,
   "id": "38a8e5c6",
   "metadata": {},
   "outputs": [],
   "source": [
    "print(memoize_pure_python(d, 80))\n",
    "print(memoize_pure_python(d, 256))"
   ]
  },
  {
   "cell_type": "markdown",
   "id": "9dbd7bbb",
   "metadata": {},
   "source": [
    "## Smoke Basin\n",
    "\n",
    "*[Link na zadatak](https://adventofcode.com/2021/day/9)*"
   ]
  },
  {
   "cell_type": "code",
   "execution_count": null,
   "id": "0661974d",
   "metadata": {
    "scrolled": true
   },
   "outputs": [],
   "source": [
    "inlist = get_aoc_input(session, 9, 2021, return_output=True)\n",
    "matrix = [[int(x) for x in line] for line in inlist]\n",
    "matrixes = np.array([[[int(x) for x in line] for line in inlist]])"
   ]
  },
  {
   "cell_type": "code",
   "execution_count": null,
   "id": "724883a8",
   "metadata": {},
   "outputs": [],
   "source": [
    "def check_low_spot(i,j,inlist,matrix):\n",
    "    ok = True\n",
    "    for (x,y) in [(1,0), (0,1), (-1,0), (0,-1)]:\n",
    "        if -1 < y + j < len(inlist) and -1 < x + i < len(line):\n",
    "            ok &= int(inlist[y+j][x+i]) > int(l)\n",
    "    if ok:\n",
    "        matrix[j][i] = 0\n",
    "        return matrix, 1+int(l)\n",
    "    else:\n",
    "        matrix[j][i] = 6 if matrix[j][i] != 9 else 9\n",
    "        return None, None"
   ]
  },
  {
   "cell_type": "code",
   "execution_count": null,
   "id": "7661b6a1",
   "metadata": {},
   "outputs": [],
   "source": [
    "lows,s = [],0\n",
    "for j,line in enumerate(inlist):\n",
    "    for i,l in enumerate(line):\n",
    "        m, n = check_low_spot(i,j,inlist,matrix)\n",
    "        if m is not None:\n",
    "            s += n\n",
    "            lows.append((i,j))\n",
    "            matrixes = np.append(matrixes, [m], axis=0)\n",
    "print(s)"
   ]
  },
  {
   "cell_type": "code",
   "execution_count": null,
   "id": "3a06d339",
   "metadata": {},
   "outputs": [],
   "source": [
    "def basin_size(x,y,inlist):\n",
    "    seen = set()\n",
    "    Q = [(x,y)]\n",
    "    size = 0\n",
    "    while len(Q) > 0:\n",
    "        curr = Q.pop(0)\n",
    "        curx, cury = curr\n",
    "        if curr in seen:\n",
    "            continue\n",
    "        seen.add(curr)\n",
    "        if 0 <= cury < len(inlist) and 0 <= curx < len(inlist[0]):\n",
    "            if int(inlist[cury][curx]) != 9:\n",
    "                size += 1\n",
    "                Q += [(curx+1,cury), (curx-1,cury), (curx,cury+1), (curx,cury-1)]\n",
    "    return size"
   ]
  },
  {
   "cell_type": "code",
   "execution_count": null,
   "id": "ae47b2bb",
   "metadata": {},
   "outputs": [],
   "source": [
    "basins = []\n",
    "for (x,y) in lows:\n",
    "    basins.append(basin_size(x,y,inlist))\n",
    "basins.sort()\n",
    "print(f'Size of the largest three basins: {basins[-1]}, {basins[-2]}, {basins[-3]}')\n",
    "print(f'Those numbers multiplied: {basins[-1] * basins[-2] * basins[-3]}')"
   ]
  },
  {
   "cell_type": "code",
   "execution_count": null,
   "id": "e998552e",
   "metadata": {
    "scrolled": false
   },
   "outputs": [],
   "source": [
    "fig, ax = plt.subplots()\n",
    "cax = ax.pcolormesh(matrixes[0, :, :])"
   ]
  },
  {
   "cell_type": "code",
   "execution_count": null,
   "id": "781f12b7",
   "metadata": {},
   "outputs": [],
   "source": [
    "def basin_animate(i):\n",
    "    cax.set_array(matrixes[i, :, :])\n",
    "    return cax\n",
    "\n",
    "anim = animation.FuncAnimation(fig, basin_animate, interval=100, frames=matrixes.shape[0] - 1)\n",
    "plt.show()"
   ]
  },
  {
   "cell_type": "markdown",
   "id": "4d9d9b5a",
   "metadata": {},
   "source": [
    "## Jurassic Jigsaw"
   ]
  },
  {
   "cell_type": "code",
   "execution_count": null,
   "id": "6209bbcb",
   "metadata": {
    "scrolled": true
   },
   "outputs": [],
   "source": [
    "get_aoc_input(session, 20, 2020)\n",
    "\n",
    "with open('2020_20_input.txt') as f:\n",
    "    tiles = {\n",
    "        int((line := tile.split('\\n'))[0].split()[1][:-1]) : np.array([[int(x) for x in y] for y in line[1:]])\n",
    "        for tile in f.read().replace('.','0').replace('#','1').split('\\n\\n')\n",
    "    }"
   ]
  },
  {
   "cell_type": "code",
   "execution_count": null,
   "id": "fc8f0794",
   "metadata": {},
   "outputs": [],
   "source": [
    "from functools import reduce\n",
    "\n",
    "edges = {\n",
    "    k : set.union(*[{tuple(edge), tuple(reversed(edge))} for edge in [v[0], v[-1], v[:,0], v[:,-1]]])\n",
    "    for k, v in tiles.items()\n",
    "}\n",
    "neighbors = {\n",
    "    k1 : ({k2 for k2, v2 in edges.items() if v1 & v2} - {k1}) for k1,v1 in edges.items()\n",
    "}\n",
    "corners = [k for k, v in neighbors.items() if len(v) == 2]\n",
    "\n",
    "print(reduce(lambda a,b: a * b, corners))"
   ]
  },
  {
   "cell_type": "code",
   "execution_count": null,
   "id": "7b3570c9",
   "metadata": {},
   "outputs": [],
   "source": [
    "def rotations(tile):\n",
    "    for _ in range(2):\n",
    "        for _ in range(4):\n",
    "            tile = np.rot90(tile)\n",
    "            yield tile\n",
    "        tile = np.flip(tile,0)"
   ]
  },
  {
   "cell_type": "code",
   "execution_count": null,
   "id": "cab56281",
   "metadata": {},
   "outputs": [],
   "source": [
    "current = corners[0]\n",
    "reverse = False\n",
    "tiles[current] = next(\n",
    "    tile for tile in rotations(tiles[current]) \n",
    "    if {tuple(tile[-1]), tuple(tile[:,-1])}.issubset(\n",
    "        set.union(*[edges[k] for k in neighbors[current]])\n",
    "    )\n",
    ")\n",
    "chart = []\n",
    "chart_row = [tiles[current][1:-1,1:-1]]"
   ]
  },
  {
   "cell_type": "code",
   "execution_count": null,
   "id": "0c981d52",
   "metadata": {},
   "outputs": [],
   "source": [
    "def find_next_tile(current, current_edge, reverse, row):\n",
    "    next_tile = [k for k in neighbors[current] if tuple(current_edge) in edges[k]]\n",
    "    if len(next_tile) > 0:\n",
    "        tiles[next_tile[0]] = [\n",
    "            tile for tile in rotations(tiles[next_tile[0]]) \n",
    "            if tuple(current_edge) == (tuple(tile[:,-int(reverse)]) if row else tuple(tile[0]))\n",
    "        ][0]\n",
    "        return next_tile[0]\n",
    "    return None"
   ]
  },
  {
   "cell_type": "code",
   "execution_count": null,
   "id": "07d4ca2e",
   "metadata": {},
   "outputs": [],
   "source": [
    "def get_next_tile(current, reverse, row=True):\n",
    "    next_tile_id = find_next_tile(current, tiles[current][:,-(not reverse)], reverse, row)\n",
    "    if next_tile_id:\n",
    "        current = next_tile_id\n",
    "        chart_row += [tiles[current][1:-1,1:-1]]\n",
    "    else:\n",
    "        chart += [np.hstack(chart_row)] if not reverse else [np.hstack(chart_row[::-1])]\n",
    "        chart_row.clear()\n",
    "    return next_tile_id"
   ]
  },
  {
   "cell_type": "code",
   "execution_count": null,
   "id": "9a1ad169",
   "metadata": {},
   "outputs": [],
   "source": [
    "while current:\n",
    "    next_tile_id = get_next_tile(current, reverse)\n",
    "    if next_tile_id is None:\n",
    "        reverse = not reverse\n",
    "        current = get_next_tile(current, reverse, row=False)\n",
    "    else:\n",
    "        current = next_tile_id"
   ]
  }
 ],
 "metadata": {
  "kernelspec": {
   "display_name": "Python 3 (ipykernel)",
   "language": "python",
   "name": "python3"
  },
  "language_info": {
   "codemirror_mode": {
    "name": "ipython",
    "version": 3
   },
   "file_extension": ".py",
   "mimetype": "text/x-python",
   "name": "python",
   "nbconvert_exporter": "python",
   "pygments_lexer": "ipython3",
   "version": "3.10.2"
  }
 },
 "nbformat": 4,
 "nbformat_minor": 5
}
